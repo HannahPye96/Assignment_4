{
 "cells": [
  {
   "cell_type": "code",
   "execution_count": 2,
   "metadata": {},
   "outputs": [],
   "source": [
    "install.packages(\"rvest\")\n",
    "library(rvest)\n",
    "\n",
    "install.packages(\"stringr\")\n",
    "library(stringr)\n",
    "\n",
    "install.packages(\"tidyr\")\n",
    "library(tidyr)\n",
    "\n",
    "install.packages(\"dplyr\")\n",
    "library(dplyr)"
   ]
  },
  {
   "cell_type": "code",
   "execution_count": 4,
   "metadata": {},
   "outputs": [],
   "source": [
    "install.packages(\"tidyverse\")\n",
    "library(tidyverse)"
   ]
  },
  {
   "cell_type": "code",
   "execution_count": 6,
   "metadata": {},
   "outputs": [],
   "source": [
    "install.packages(\"ggplot2\")\n",
    "library(ggplot2)\n",
    "\n",
    "install.packages(\"ggalt\")\n",
    "library(ggalt)"
   ]
  },
  {
   "cell_type": "code",
   "execution_count": 7,
   "metadata": {},
   "outputs": [],
   "source": [
    "ReadSite = read_html(\"http://www.dogbreedchart.com/\")\n",
    "SiteText = ReadSite %>% html_nodes('tr') %>% html_text()"
   ]
  },
  {
   "cell_type": "code",
   "execution_count": 8,
   "metadata": {},
   "outputs": [],
   "source": [
    "Clean = gsub(\"(\\n)\", \"\", SiteText)\n",
    "Table = data.frame(Clean)\n",
    "DataOnly = Table[3:201, ]"
   ]
  },
  {
   "cell_type": "code",
   "execution_count": 9,
   "metadata": {},
   "outputs": [],
   "source": [
    "NoSpace = str_split_fixed(DataOnly, \"                   \", n=15)\n",
    "colnames(NoSpace)=c('', '', 'Name', 'Size', 'Kid_Friendly','Dog_Friendly','Low_Shedding','Easy_to_Groom','High_Energy','Good_Health','Low_Barking','Intelligence','Easy_to_Train','Tolerates_Hot','Tolerates_Cold')\n",
    "DogBreedChart = NoSpace[ , 3:15]"
   ]
  },
  {
   "cell_type": "code",
   "execution_count": 10,
   "metadata": {},
   "outputs": [],
   "source": [
    "DogID = data.frame('ID'= 1:199, 'Name'= DogBreedChart[ ,1]) "
   ]
  },
  {
   "cell_type": "code",
   "execution_count": 11,
   "metadata": {},
   "outputs": [],
   "source": [
    "DogScore = data.frame('ID'= 1:199, 'Size' = DogBreedChart[ ,2], 'Kid_Friendly' = DogBreedChart[ ,3],'Dog_Friendly'= DogBreedChart[ ,4],'Low_Shedding'= DogBreedChart[ ,5],'Easy_to_Groom'= DogBreedChart[ ,6],'High_Energy'= DogBreedChart[ ,7],'Good_Health'= DogBreedChart[ ,8],'Low_Barking'= DogBreedChart[ ,9],'Intelligence'= DogBreedChart[ ,10],'Easy_to_Train'= DogBreedChart[ ,11],'Tolerates_Hot'= DogBreedChart[ ,12],'Tolerates_Cold'= DogBreedChart[ ,13])\n",
    "DSNumber = lapply(DogScore, as.numeric)\n",
    "Numeric_Score = as.data.frame(DSNumber)"
   ]
  },
  {
   "cell_type": "code",
   "execution_count": 12,
   "metadata": {
    "scrolled": false
   },
   "outputs": [],
   "source": [
    "Relevent = select(Numeric_Score, ID, Kid_Friendly, Good_Health, Easy_to_Groom, Low_Barking, Easy_to_Train)"
   ]
  },
  {
   "cell_type": "code",
   "execution_count": 13,
   "metadata": {},
   "outputs": [],
   "source": [
    "R5 = filter(Relevent, Kid_Friendly == 5 | Good_Health == 5 | Easy_to_Groom == 5 | Low_Barking == 5 | Easy_to_Train == 5)"
   ]
  },
  {
   "cell_type": "code",
   "execution_count": 14,
   "metadata": {},
   "outputs": [],
   "source": [
    "R5$Num_O_5s = rowSums(R5 == 5)"
   ]
  },
  {
   "cell_type": "code",
   "execution_count": 15,
   "metadata": {},
   "outputs": [],
   "source": [
    "ID5s = select(R5, 1, 7)"
   ]
  },
  {
   "cell_type": "code",
   "execution_count": 16,
   "metadata": {},
   "outputs": [],
   "source": [
    "ID3s = filter(ID5s, Num_O_5s >= 3)"
   ]
  },
  {
   "cell_type": "code",
   "execution_count": 17,
   "metadata": {},
   "outputs": [],
   "source": [
    "DogidNOF = right_join(DogID, ID3s, by = c('ID'))"
   ]
  },
  {
   "cell_type": "code",
   "execution_count": 18,
   "metadata": {},
   "outputs": [],
   "source": [
    "DogNOF = DogidNOF[ ,2:3]"
   ]
  },
  {
   "cell_type": "code",
   "execution_count": 19,
   "metadata": {},
   "outputs": [],
   "source": [
    "Colour = ifelse(DogNOF$Num_O_5s == 3, \"#9DA64F\", \"#72892E\")"
   ]
  },
  {
   "cell_type": "code",
   "execution_count": 20,
   "metadata": {},
   "outputs": [],
   "source": [
    "Size = ifelse(DogNOF$Num_O_5s == 3, 1, 3)"
   ]
  },
  {
   "cell_type": "code",
   "execution_count": 36,
   "metadata": {
    "scrolled": false
   },
   "outputs": [
    {
     "data": {
      "text/html": [
       "<strong>png:</strong> 2"
      ],
      "text/latex": [
       "\\textbf{png:} 2"
      ],
      "text/markdown": [
       "**png:** 2"
      ],
      "text/plain": [
       "png \n",
       "  2 "
      ]
     },
     "metadata": {},
     "output_type": "display_data"
    }
   ],
   "source": [
    "pdf(\"Bar_Graph03.pdf\")\n",
    "par(mar=c(11, 4.1, 4.1, 2.1))\n",
    "barplot(ID3s$Num_O_5s, border = FALSE, ID5s$ID, mgp=c(2,1,0), cex.names=0.8, names.arg = DogNOF[ ,1], legend = FALSE, ylab = 'Number of 5s', xlab = \"\", main = \"Most Compatable Dog Breeds\", col.lab = '#A17A48', col.main = '#5E4F26', cex.main = 1.5, font.main = 2, las=2, width=Size, space= 1, font.lab = 2, col=Colour)\n",
    "mtext(\"Dog Breeds\", side = 1, col = '#A17A48', font = 2, line = -0.25)\n",
    "dev.off()"
   ]
  },
  {
   "cell_type": "code",
   "execution_count": null,
   "metadata": {},
   "outputs": [],
   "source": []
  }
 ],
 "metadata": {
  "kernelspec": {
   "display_name": "R",
   "language": "R",
   "name": "ir"
  },
  "language_info": {
   "codemirror_mode": "r",
   "file_extension": ".r",
   "mimetype": "text/x-r-source",
   "name": "R",
   "pygments_lexer": "r",
   "version": "3.4.3"
  }
 },
 "nbformat": 4,
 "nbformat_minor": 2
}
